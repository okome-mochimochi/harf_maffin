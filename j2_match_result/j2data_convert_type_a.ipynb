{
 "cells": [
  {
   "cell_type": "code",
   "execution_count": 5,
   "metadata": {},
   "outputs": [
    {
     "name": "stdout",
     "output_type": "stream",
     "text": [
      "46\n"
     ]
    }
   ],
   "source": [
    "import os\n",
    "os.getcwd()"
   ]
  },
  {
   "cell_type": "code",
   "execution_count": 1,
   "metadata": {
    "scrolled": false
   },
   "outputs": [
    {
     "ename": "AttributeError",
     "evalue": "'str' object has no attribute 'insert'",
     "output_type": "error",
     "traceback": [
      "\u001b[1;31m---------------------------------------------------------------------------\u001b[0m",
      "\u001b[1;31mAttributeError\u001b[0m                            Traceback (most recent call last)",
      "\u001b[1;32m<ipython-input-1-3467508a94af>\u001b[0m in \u001b[0;36m<module>\u001b[1;34m\u001b[0m\n\u001b[0;32m    105\u001b[0m \u001b[1;33m\u001b[0m\u001b[0m\n\u001b[0;32m    106\u001b[0m \u001b[1;31m#　5-2   全体出力\u001b[0m\u001b[1;33m\u001b[0m\u001b[1;33m\u001b[0m\u001b[1;33m\u001b[0m\u001b[0m\n\u001b[1;32m--> 107\u001b[1;33m     \u001b[0mx\u001b[0m\u001b[1;33m.\u001b[0m\u001b[0minsert\u001b[0m\u001b[1;33m(\u001b[0m\u001b[1;36m0\u001b[0m\u001b[1;33m,\u001b[0m\u001b[1;34mf'{name}'\u001b[0m\u001b[1;33m)\u001b[0m \u001b[1;31m#ヘッドを再度追加（）\u001b[0m\u001b[1;33m\u001b[0m\u001b[1;33m\u001b[0m\u001b[0m\n\u001b[0m\u001b[0;32m    108\u001b[0m     \u001b[0mtmp\u001b[0m\u001b[1;33m.\u001b[0m\u001b[0mappend\u001b[0m\u001b[1;33m(\u001b[0m\u001b[0mx\u001b[0m\u001b[1;33m)\u001b[0m\u001b[1;33m\u001b[0m\u001b[1;33m\u001b[0m\u001b[0m\n\u001b[0;32m    109\u001b[0m \u001b[1;33m\u001b[0m\u001b[0m\n",
      "\u001b[1;31mAttributeError\u001b[0m: 'str' object has no attribute 'insert'"
     ]
    }
   ],
   "source": [
    "import re,csv,pandas as pd,numpy as np\n",
    "\n",
    "# 0-1 位置の処理判定用の数字\n",
    "\n",
    "year=2018\n",
    "key= (year-2012)*(1)+1\n",
    "m_key =[2012,45,46,42,43,48,43,52]\n",
    "\n",
    "tmp = []\n",
    "#　1: 用意したテキストの修正\n",
    "with open(f'{year}_source.txt','r',encoding='UTF-8') as f:\n",
    "    reg = f.read()\n",
    "#  1-1:source file backup\n",
    "with open(f'./{year}_j2/source{year}_j2.txt','w',encoding='UTF-8') as w:    \n",
    "    w.write(reg)\n",
    "\n",
    "# 1-2:regex list\n",
    "    reg = re.sub(r'チ.*','',reg,)\n",
    "    reg = re.sub(r'(\\d+)\\t',r'\\1',reg,)\n",
    "    reg = re.sub(r'(\\w+)\\t',r'★\\1',reg, )\n",
    "    reg = re.sub(r'\\n','',reg,)\n",
    "    reg = re.sub(r'\\r\\n',r'\\n',reg, )\n",
    "    reg = re.sub(r'★',r'\\n★',reg,)\n",
    "    reg = re.sub(r'(△|○|●|A|H)',r'\\t\\1\\t',reg,)\n",
    "    reg = re.sub(r's.:.(\\d+)',r's-\\1\\t',reg, )\n",
    "    reg = re.sub(r'p.:.(\\d+)',r'p-\\1',reg, )\n",
    "    reg = re.sub(r'(\\d)(s)',r'\\1\\t\\2',reg,)\n",
    "    reg = re.sub(r'(p-\\d+)(\\s+|\\t+)(s)',r'\\1\\t\\t\\t\\t\\2',reg,)\n",
    "    reg = re.sub(r'(s|p)-','',reg,)\n",
    "    reg = re.sub(r'-',r'\\t',reg,)\n",
    "    reg = re.sub(r'(★\\w+)\\s+(\\d+\\t)',r'\\1\\t\\t\\t\\t\\2',reg,)\n",
    "\n",
    "    reg = re.sub(r' ','',reg,)\n",
    "\n",
    "    with open('reg.txt','w',encoding='utf-8') as f:\n",
    "        f.write(reg)\n",
    "\n",
    "#　2:クラブリストの取得（22クラブなので決め打ちでOK）\n",
    "    l = re.sub(r'(★.+?)\\t.*(\\n|$)',r'\\1,',reg)\n",
    "    l  = re.sub(r'^\\n','',l)\n",
    "    club = l.split(',')\n",
    "    club = club[0:22]\n",
    "    \n",
    "with open(f'./{year}_j2/{year}_j2_club.csv','w', encoding='utf-8',) as f:\n",
    "    writer = csv.writer(f,delimiter='\\t',)\n",
    "    writer.writerow(club)\n",
    "    \n",
    "#　3:クラブごと抽出し、一行にまとめる\n",
    "for name in club:\n",
    "    x = re.findall(r'%s.+' % name,reg) #★クラブ名で行抽出\n",
    "    x = ''.join(x) \n",
    "    x = re.sub(r'%s\\t' % name,r'',x) #ヘッド重複を処理\n",
    "    x = re.sub(r'(\\d+)(A|H)',r'\\1\\t\\2',x,)\n",
    "    x = re.sub(r'(\\d)\\t{3}(\\d)',r'\\1\\t\\t\\t\\t\\t\\t\\2',x,)\n",
    "    x = re.sub(r'(\\w)\\t{4}(\\d)',r'\\1\\t\\t\\t\\t\\t\\2',x,)\n",
    "    x = re.sub(r'^\\n','',x)\n",
    "    x = re.sub(r'\\t{6}',r'\\t\\t\\t\\t0\\t0\\t',x,)\n",
    "\n",
    "    #得失点差生成パート\n",
    "    y = x\n",
    "    #重複削除（34節らへん、ここは年ごとに決め打ち）\n",
    "    #18-301:315 17-254:268 16-274:316 15-239:252 14-232:252 13-316:371 12-cut なし\n",
    "    #　この部分の処理を関数化して、XとY通す　Type-A&Bも関数に入れ込めば通す\n",
    "        \n",
    "    # Type-B 出力部分\n",
    "    y = re.sub(r'(\\t{4})\\d\\t\\d\\t\\d+\\t\\d+\\t',r'\\t',y,)\n",
    "#    y = re.sub(r'\\t{8}',r'',y,)\n",
    "    y = y.split('\\t')\n",
    "    if year==2018 and len(y)==301:    del y[252:259]\n",
    "    elif year==2018 and len(y)==308:    del y[252:266]\n",
    "    elif year ==2017: del y[254:268]\n",
    "    elif year ==2016: del y[274:316]\n",
    "    elif year ==2015: del y[238:252]\n",
    "    elif year ==2014: del y[231:252]\n",
    "    elif year ==2013: del y[238:287]\n",
    "    else : pass\n",
    "\n",
    "    mk_gd = y\n",
    "    for i in mk_gd :\n",
    "        g_g =mk_gd[3::7]\n",
    "        g_a =mk_gd[4::7]\n",
    "    \n",
    "    g_g = [int(s) for s in g_g]\n",
    "    g_g = np.array(g_g,)\n",
    "    g_g = np.cumsum(g_g)\n",
    "    \n",
    "    g_a = [int(s) for s in g_a]\n",
    "    g_a = np.array(g_a,)\n",
    "    g_a = np.cumsum(g_a)\n",
    "    \n",
    "    g_d = g_g-g_a\n",
    "    gd_ = np.concatenate((g_g,g_a,g_d),)\n",
    "    gd_ = gd_.reshape(3,42)\n",
    "    gd_ = gd_.T\n",
    "    gd_ = pd.DataFrame(gd_,columns =['得点計','失点計','得失点差'],)\n",
    "   \n",
    "    b =np.array(y,dtype='unicode')\n",
    "    b =b.reshape(42,7) \n",
    "    b =pd.DataFrame(b,columns = ['H/A','対戦相手','試合結果','得点','失点','順位','勝ち点'],)\n",
    "    b = pd.concat([b,gd_], axis=1)\n",
    "    b = b[['H/A','対戦相手','試合結果','得点','失点','得点計','失点計','得失点差','勝ち点','順位']]\n",
    "    b.to_csv(f'./{year}_j2/{year}_type_b_{name}.csv',index=False )  \n",
    "\n",
    "    \n",
    "    \n",
    "#　5-2   全体出力\n",
    "    x.insert(0,f'{name}') #ヘッドを再度追加（）\n",
    "    tmp.append(x)\n",
    "\n",
    "with open(f'./{year}_j2/{year}_all.csv','w',encoding='utf-8',newline=\"\")as g:\n",
    "    writer = csv.writer(g,delimiter='\\t',)\n",
    "    writer.writerow(tmp)\n"
   ]
  },
  {
   "cell_type": "code",
   "execution_count": null,
   "metadata": {},
   "outputs": [],
   "source": []
  }
 ],
 "metadata": {
  "celltoolbar": "Tags",
  "kernelspec": {
   "display_name": "Python 3",
   "language": "python",
   "name": "python3"
  },
  "language_info": {
   "codemirror_mode": {
    "name": "ipython",
    "version": 3
   },
   "file_extension": ".py",
   "mimetype": "text/x-python",
   "name": "python",
   "nbconvert_exporter": "python",
   "pygments_lexer": "ipython3",
   "version": "3.7.5"
  },
  "widgets": {
   "application/vnd.jupyter.widget-state+json": {
    "state": {},
    "version_major": 2,
    "version_minor": 0
   }
  }
 },
 "nbformat": 4,
 "nbformat_minor": 2
}
